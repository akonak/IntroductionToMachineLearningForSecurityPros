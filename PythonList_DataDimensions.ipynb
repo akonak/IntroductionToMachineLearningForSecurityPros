{
  "nbformat": 4,
  "nbformat_minor": 0,
  "metadata": {
    "colab": {
      "name": "PythonList_DataDimensions.ipynb",
      "provenance": [],
      "collapsed_sections": [],
      "include_colab_link": true
    },
    "kernelspec": {
      "name": "python3",
      "display_name": "Python 3"
    }
  },
  "cells": [
    {
      "cell_type": "markdown",
      "metadata": {
        "id": "view-in-github",
        "colab_type": "text"
      },
      "source": [
        "<a href=\"https://colab.research.google.com/github/akonak/IntroductionToMachineLearningForSecurityPros/blob/master/PythonList_DataDimensions.ipynb\" target=\"_parent\"><img src=\"https://colab.research.google.com/assets/colab-badge.svg\" alt=\"Open In Colab\"/></a>"
      ]
    },
    {
      "cell_type": "markdown",
      "metadata": {
        "id": "3L5z4Hvoxy57",
        "colab_type": "text"
      },
      "source": [
        "\n",
        "\n",
        "\n",
        "# Python Lists\n",
        "\n",
        "=[*Product_Index*][*Region_Index*][*Season_Index*]"
      ]
    },
    {
      "cell_type": "markdown",
      "metadata": {
        "id": "iv8sEnRubSiq",
        "colab_type": "text"
      },
      "source": [
        "#Data Dimensions and Python Lists\n",
        "\n",
        "Before discussing the details of Numpy Arrays, let us briefly think about the dimension of data.  Typically, we represent and store data as tables.  Consider the following table which stores the sales amounts of three products: A, B, and C.   \n",
        "\n",
        "| Product |\tSales|\n",
        "| --- | --- |\n",
        "| A |\t10|\n",
        "| B |\t20|\n",
        "| C |\t30|\n",
        "\n",
        "\n",
        "Let us assume that we want to perform some operations on the sales column such as finding the average sales.  In Python, we can represent the sales column as a one-dimensional list. In Python, a list is created by placing all the list elements inside a square bracket [ ] with each element separated by a comma.  A list can have any number of elements that may be of different types (integer, float, string etc.)\n",
        "\n",
        "\n",
        "A list of the sales of products named Sales would be represented as follows: "
      ]
    },
    {
      "cell_type": "code",
      "metadata": {
        "id": "fRfu16cxtzx5",
        "colab_type": "code",
        "colab": {}
      },
      "source": [
        "Sales=[10, 20, 30]\n",
        "print (Sales)"
      ],
      "execution_count": 0,
      "outputs": []
    },
    {
      "cell_type": "markdown",
      "metadata": {
        "id": "zDIGCc9ttvNY",
        "colab_type": "text"
      },
      "source": [
        "But, what happens to the product column? Do we need the product column? Although we can store the products as a list of strings, the products are implicitly represented by the index of the Sales list. We can consider the index of the list as the row number of the table. As long as we know that index 0 represents Product A, index 1 represents Product B, and index 2 Product C, we do not need to store the products explicitly."
      ]
    },
    {
      "cell_type": "code",
      "metadata": {
        "id": "RTn-Ag4znmLX",
        "colab_type": "code",
        "colab": {}
      },
      "source": [
        "print(Sales[0])"
      ],
      "execution_count": 0,
      "outputs": []
    },
    {
      "cell_type": "markdown",
      "metadata": {
        "id": "8e5M_YZspAOr",
        "colab_type": "text"
      },
      "source": [
        "In this case, our data is one dimensional because we can map the products to the sales values using a single index, i.e, 0→A, 1→B, 2→C.  \n",
        "\n",
        "| 0 |\t1| 2|\n",
        "| --- | --- |---|\n",
        "| 10 |\t20| 30 |\n",
        "\n",
        "\n",
        "\n",
        "Now let us consider the following table which breaks down the sales of the products over two regions, East and West. \n",
        "\n",
        "| Product | Region | Sales |\n",
        "|---------|--------|-------|\n",
        "| A       | East   | 5     |\n",
        "| A       | West   | 5     |\n",
        "| B       | East   | 8     |\n",
        "| B       | West   | 12    |\n",
        "| C       | East   | 20    |\n",
        "| C       | West   | 10    |\n",
        "\n",
        "Can we represent the data using a one-dimensional Python list? Certainly, we can use a simple list as follows:\n",
        "\n",
        "\n"
      ]
    },
    {
      "cell_type": "code",
      "metadata": {
        "id": "YXm1YLyK4p7I",
        "colab_type": "code",
        "colab": {}
      },
      "source": [
        "Sales=[5, 5, 8, 12, 20, 10]"
      ],
      "execution_count": 0,
      "outputs": []
    },
    {
      "cell_type": "markdown",
      "metadata": {
        "id": "sBLz4hKW4iP4",
        "colab_type": "text"
      },
      "source": [
        "However, a one-dimensional list is not an effective way of storing data in this case.  Consider that we want to find the total sales in Region East. To do so, we need to know which indexes correspond to Region East.  In this small table, this is not a problem but consider a large table with an arbitrary order of rows.   \n",
        "\n",
        "We have a better option to organize the data. We can use a two-dimensional matrix where the rows represent products, and the columns the regions as follows.   \n",
        "\n",
        "| Product | East | West |\n",
        "|---------|------|------|\n",
        "| A       | 5    | 5    |\n",
        "| B       | 8    | 12   |\n",
        "| C       | 20   | 10   |\n",
        "\n",
        "To represent the matrix above, we use a two-dimensional array (or a nested list in Python) as follows:"
      ]
    },
    {
      "cell_type": "code",
      "metadata": {
        "id": "-UjIwcK2tXw_",
        "colab_type": "code",
        "colab": {}
      },
      "source": [
        "Sales=[[5, 5],[8,12],[20, 10]]"
      ],
      "execution_count": 0,
      "outputs": []
    },
    {
      "cell_type": "markdown",
      "metadata": {
        "id": "WFPK5OoltZAI",
        "colab_type": "text"
      },
      "source": [
        "Let us try the following statement:"
      ]
    },
    {
      "cell_type": "code",
      "metadata": {
        "id": "ADrsOJ8Stec7",
        "colab_type": "code",
        "colab": {}
      },
      "source": [
        "Sales=[[5, 5],[8,12],[20, 10]]\n",
        "print(Sales[0])"
      ],
      "execution_count": 0,
      "outputs": []
    },
    {
      "cell_type": "markdown",
      "metadata": {
        "id": "f6QGzLLKuGkQ",
        "colab_type": "text"
      },
      "source": [
        "The output will be [5, 5].  The output may look a bit strange but is in fact very useful.  In this case, Sales[0] stores the list [5, 5] not a single value.  In other words, Sales[0] points to the first row of the matrix.  \n",
        "\n",
        "Then, what about if we wish to access the individual sales data, for example, Product B-Region East sales?  The index of Product B's row is 1. Hence, Sales[1] corresponds to the sales of Product B over the regions.  Since the **index of the column** for Region East is 0, we can access Product B-Region East sales as:"
      ]
    },
    {
      "cell_type": "code",
      "metadata": {
        "id": "PCcfqAkJu1cT",
        "colab_type": "code",
        "colab": {}
      },
      "source": [
        "print(Sales[1][0])"
      ],
      "execution_count": 0,
      "outputs": []
    },
    {
      "cell_type": "markdown",
      "metadata": {
        "id": "gy04X7YcvLRE",
        "colab_type": "text"
      },
      "source": [
        "Now let us add more dimension to the sales data by considering seasons (the Season column).  \n",
        "\n",
        "| Product | Region | Season | Sales |\n",
        "|---------|--------|--------|-------|\n",
        "| A       | East   | Fall   | 2     |\n",
        "| A       | East   | Spring | 3     |\n",
        "| A       | West   | Fall   | 3     |\n",
        "| A       | West   | Spring | 2     |\n",
        "| B       | East   | Fall   | 5     |\n",
        "| B       | East   | Spring | 3     |\n",
        "| B       | West   | Fall   | 7     |\n",
        "| B       | West   | Spring | 5     |\n",
        "| C       | East   | Fall   | 15    |\n",
        "| C       | East   | Spring | 5     |\n",
        "| C       | West   | Fall   | 7     |\n",
        "| C       | West   | Spring | 3     |\n",
        "\n",
        "\n",
        "In the matrix form, we can store the same data as follows:\n",
        "\n",
        "| A    |      |        |  | B    |      |        |   | C    |      |        |\n",
        "|------|------|--------|---|------|------|--------|---|------|------|--------|\n",
        "|      | Fall | Spring |  |      | Fall | Spring |  |      | Fall | Spring |\n",
        "| East | 2    | 3      |  | East | 5    | 3      |   | East | 15   | 5      |\n",
        "| West | 3    | 2      |  | West | 7    | 5      |     | West | 7    | 3      |   \n",
        "\n",
        "In Python, we need to use a nested list with three layers (a tree-dimensional array) as follows:"
      ]
    },
    {
      "cell_type": "code",
      "metadata": {
        "id": "6lV_9V2Yw_GI",
        "colab_type": "code",
        "colab": {}
      },
      "source": [
        "Sales=[ [[2,3],[3,2]], [[5,3],[7,5]], [[15,5],[7,3]] ]"
      ],
      "execution_count": 0,
      "outputs": []
    },
    {
      "cell_type": "markdown",
      "metadata": {
        "id": "TsAAy-uqxSTl",
        "colab_type": "text"
      },
      "source": [
        "We can access the matrix of the products, A, B, and C using Sales[0], Sales[1], and Sales[2], respectively.  We can access the sales values of Product A in Region West using Sales[0][1]. We can access the sales of Product A in Region West at Season Fall using Sales[0][1][0].  To access the individual data values, we need to use three indexes as follows:   \n",
        "\n",
        "Sales=[*Product_Index*][*Region_Index*][*Season_Index*]"
      ]
    },
    {
      "cell_type": "markdown",
      "metadata": {
        "id": "gKnoxCXQx4zG",
        "colab_type": "text"
      },
      "source": [
        "#NumPy Shape Function\n",
        "Numpy shape function returns the shape **to** an array without changing its data. To use shape function, we need to import the numpy first "
      ]
    },
    {
      "cell_type": "code",
      "metadata": {
        "id": "s698NufPyXjm",
        "colab_type": "code",
        "outputId": "e67a91a2-63d0-440d-95c5-43b6c7f4b0c2",
        "colab": {
          "base_uri": "https://localhost:8080/",
          "height": 35
        }
      },
      "source": [
        "import numpy as np\n",
        "Sales=[ [[2,3],[3,2]], [[5,3],[7,5]], [[15,5],[7,3]] ]\n",
        "np.shape(Sales)"
      ],
      "execution_count": 0,
      "outputs": [
        {
          "output_type": "execute_result",
          "data": {
            "text/plain": [
              "(3, 2, 2)"
            ]
          },
          "metadata": {
            "tags": []
          },
          "execution_count": 13
        }
      ]
    },
    {
      "cell_type": "markdown",
      "metadata": {
        "id": "ZdlYCiNzyjYG",
        "colab_type": "text"
      },
      "source": [
        "**The output of** is not surprising.  The shape (3,2,2) means that the Sales list has three dimensions.  The size of the first dimension is three, meaning that the first index can have values 0, 1, and 2.  The second and third dimensions have the size of two.\n",
        "\n",
        "Let us try the following statement:"
      ]
    },
    {
      "cell_type": "code",
      "metadata": {
        "id": "QVxuiErmzfFZ",
        "colab_type": "code",
        "colab": {}
      },
      "source": [
        "np.shape(Sales[0])"
      ],
      "execution_count": 0,
      "outputs": []
    },
    {
      "cell_type": "markdown",
      "metadata": {
        "id": "TFkTc2h2zxIB",
        "colab_type": "text"
      },
      "source": [
        "The output suggest that Sales[0] is a 2 x 2 matrix.\n",
        "\n",
        "Now let us run the following statement:"
      ]
    },
    {
      "cell_type": "code",
      "metadata": {
        "id": "Bqd312ok0D7m",
        "colab_type": "code",
        "outputId": "7685f1b7-48fd-4f5e-f516-907db377b429",
        "colab": {
          "base_uri": "https://localhost:8080/",
          "height": 35
        }
      },
      "source": [
        "np.shape(Sales[0][1])"
      ],
      "execution_count": 0,
      "outputs": [
        {
          "output_type": "execute_result",
          "data": {
            "text/plain": [
              "(2,)"
            ]
          },
          "metadata": {
            "tags": []
          },
          "execution_count": 14
        }
      ]
    },
    {
      "cell_type": "markdown",
      "metadata": {
        "id": "2eqayhhe0H7p",
        "colab_type": "text"
      },
      "source": [
        "Here the shape (2,) means that Sales[0][1] is a list indexed by a single index which runs from 0 to 1. We will discuss the function in the further section. "
      ]
    },
    {
      "cell_type": "markdown",
      "metadata": {
        "id": "vNq7RIMZ0NiT",
        "colab_type": "text"
      },
      "source": [
        "#The index slicing operator (:)\n",
        "Python's slicing operator (:) allows us to access and manipulate a range of items in a list by specifying where to start and where to end the range.\n",
        "\n",
        "Let us start with a list named A.  We can retrieve the first four for elements of the list A as shown. \n"
      ]
    },
    {
      "cell_type": "code",
      "metadata": {
        "id": "wX0jehWm1Mh_",
        "colab_type": "code",
        "outputId": "6ee7c67b-102d-4afa-96b1-3592d18478f4",
        "colab": {
          "base_uri": "https://localhost:8080/",
          "height": 34
        }
      },
      "source": [
        "A = [0,1,2,3,4,5,6,7]\n",
        "print(A[0:4])"
      ],
      "execution_count": 0,
      "outputs": [
        {
          "output_type": "stream",
          "text": [
            "[0, 1, 2, 3]\n"
          ],
          "name": "stdout"
        }
      ]
    },
    {
      "cell_type": "markdown",
      "metadata": {
        "id": "K5eCAbAD14uo",
        "colab_type": "text"
      },
      "source": [
        "0:4 is called a slice. The slice 0:4 starts at index 0 (included) and ends at index 4 (not included).\n",
        "Since 0 is the first index, we can omit 0 in the slice 0:4 and write it as follows:\n"
      ]
    },
    {
      "cell_type": "code",
      "metadata": {
        "id": "h3YoqDqe2MKI",
        "colab_type": "code",
        "colab": {}
      },
      "source": [
        "print (A[:4])"
      ],
      "execution_count": 0,
      "outputs": []
    },
    {
      "cell_type": "markdown",
      "metadata": {
        "id": "HHdnb6HS2REe",
        "colab_type": "text"
      },
      "source": [
        "We can also take a slice within the middle of a list. For example,"
      ]
    },
    {
      "cell_type": "code",
      "metadata": {
        "id": "2hTjMVFV2Wlx",
        "colab_type": "code",
        "colab": {}
      },
      "source": [
        "print (A[2:5])"
      ],
      "execution_count": 0,
      "outputs": []
    },
    {
      "cell_type": "markdown",
      "metadata": {
        "id": "4_XOKl_N3I3p",
        "colab_type": "text"
      },
      "source": [
        "If we omit the end of a slice, all items after the indicated start index will be returned. \n",
        "For example, the following slice will return all items from index 2 to the end of the list (included).\n"
      ]
    },
    {
      "cell_type": "code",
      "metadata": {
        "id": "Its8FMou3Zl3",
        "colab_type": "code",
        "outputId": "12be29b2-042e-4acd-b145-79fe0234d019",
        "colab": {
          "base_uri": "https://localhost:8080/",
          "height": 34
        }
      },
      "source": [
        "print (A[2:])"
      ],
      "execution_count": 0,
      "outputs": [
        {
          "output_type": "stream",
          "text": [
            "[2, 3, 4, 5, 6, 7]\n"
          ],
          "name": "stdout"
        }
      ]
    }
  ]
}